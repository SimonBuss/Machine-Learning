{
 "cells": [
  {
   "cell_type": "code",
   "id": "c882e6ba-d2ed-478d-af54-220084fe1e56",
   "metadata": {
    "ExecuteTime": {
     "end_time": "2024-10-12T12:39:19.777091Z",
     "start_time": "2024-10-12T12:39:19.773551Z"
    }
   },
   "source": [
    "print('Hello Word')\n",
    "print('Heleeeelo Word')"
   ],
   "outputs": [
    {
     "name": "stdout",
     "output_type": "stream",
     "text": [
      "Hello Word\n",
      "Heleeeelo Word\n"
     ]
    }
   ],
   "execution_count": 1
  },
  {
   "cell_type": "code",
   "execution_count": null,
   "id": "931fdc57-45aa-46c6-adaa-0a834d87faa6",
   "metadata": {},
   "outputs": [],
   "source": []
  }
 ],
 "metadata": {
  "kernelspec": {
   "display_name": "Python 3 (ipykernel)",
   "language": "python",
   "name": "python3"
  },
  "language_info": {
   "codemirror_mode": {
    "name": "ipython",
    "version": 3
   },
   "file_extension": ".py",
   "mimetype": "text/x-python",
   "name": "python",
   "nbconvert_exporter": "python",
   "pygments_lexer": "ipython3",
   "version": "3.12.2"
  }
 },
 "nbformat": 4,
 "nbformat_minor": 5
}
